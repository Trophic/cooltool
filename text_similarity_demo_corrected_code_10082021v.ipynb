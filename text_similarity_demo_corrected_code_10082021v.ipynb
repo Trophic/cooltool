{
 "metadata": {
  "language_info": {
   "name": "python",
   "version": "3.8.10",
   "mimetype": "text/x-python",
   "codemirror_mode": {
    "name": "ipython",
    "version": 3
   },
   "pygments_lexer": "ipython3",
   "nbconvert_exporter": "python",
   "file_extension": ".py"
  },
  "orig_nbformat": 4,
  "kernelspec": {
   "name": "python3",
   "display_name": "Python 3.8.11 64-bit ('ts38': conda)"
  },
  "interpreter": {
   "hash": "544c4e15e665e4487d0e0fbf46bc318ae8197dbdd57592186174e3d56391d346"
  }
 },
 "nbformat": 4,
 "nbformat_minor": 2,
 "cells": [
  {
   "cell_type": "code",
   "execution_count": 31,
   "source": [
    "import csv\r\n",
    "import pathlib\r\n",
    "\r\n",
    "from sklearn.feature_extraction.text import TfidfVectorizer\r\n",
    "from sklearn.metrics.pairwise import cosine_similarity\r\n",
    "\r\n",
    "CSV_PATH = pathlib.Path(\"f:\\phd\\draft thesis\\quantitative methods\\list of provisions.csv\")\r\n",
    "ID_COLUMN_NAME = \"SECTION_NO\"\r\n",
    "TEXT_COLUMN_NAME = \"SECTION_TEXT\"\r\n",
    "\r\n",
    "OUT_PATH = pathlib.Path(\"f:\\phd\\draft thesis\\quantitative methods\\TEXT SIMILARITIES v2.csv\")"
   ],
   "outputs": [],
   "metadata": {}
  },
  {
   "cell_type": "markdown",
   "source": [
    "## Read text from CSV    "
   ],
   "metadata": {}
  },
  {
   "cell_type": "code",
   "execution_count": 32,
   "source": [
    "data = {}\r\n",
    "\r\n",
    "with CSV_PATH.open() as _f:\r\n",
    "    reader = csv.DictReader(_f)\r\n",
    "    for row in reader:\r\n",
    "        _id = row[ID_COLUMN_NAME]\r\n",
    "        _text = row[TEXT_COLUMN_NAME]\r\n",
    "        data[_id] = _text"
   ],
   "outputs": [],
   "metadata": {
    "tags": []
   }
  },
  {
   "cell_type": "code",
   "execution_count": 33,
   "source": [
    "data.keys()"
   ],
   "outputs": [
    {
     "output_type": "execute_result",
     "data": {
      "text/plain": [
       "dict_keys(['8', '12', '16', '22', '25', '31', '35', '37', '41', '50', '51', '74', '75', '76', '77', '79', '80', '81', '82', '83', '84', '85', '86', '87', '91', '92', '93', '94', '95', '98', '99', '101', '102', '114', '124', '129', '130', '131', '133', '138', '141', '142', '143', '145', '147', '148', '149', '150', '151', '153', '161', '162', '163', '164', '165', '170', '176', '180', '194', '195', '196', '197', '199', '201', '203', '206', '207', '209', '210'])"
      ]
     },
     "metadata": {},
     "execution_count": 33
    }
   ],
   "metadata": {}
  },
  {
   "cell_type": "code",
   "execution_count": 34,
   "source": [
    "index = dict(zip(data.keys(), range(len(data.keys()))))\r\n",
    "index"
   ],
   "outputs": [
    {
     "output_type": "execute_result",
     "data": {
      "text/plain": [
       "{'8': 0,\n",
       " '12': 1,\n",
       " '16': 2,\n",
       " '22': 3,\n",
       " '25': 4,\n",
       " '31': 5,\n",
       " '35': 6,\n",
       " '37': 7,\n",
       " '41': 8,\n",
       " '50': 9,\n",
       " '51': 10,\n",
       " '74': 11,\n",
       " '75': 12,\n",
       " '76': 13,\n",
       " '77': 14,\n",
       " '79': 15,\n",
       " '80': 16,\n",
       " '81': 17,\n",
       " '82': 18,\n",
       " '83': 19,\n",
       " '84': 20,\n",
       " '85': 21,\n",
       " '86': 22,\n",
       " '87': 23,\n",
       " '91': 24,\n",
       " '92': 25,\n",
       " '93': 26,\n",
       " '94': 27,\n",
       " '95': 28,\n",
       " '98': 29,\n",
       " '99': 30,\n",
       " '101': 31,\n",
       " '102': 32,\n",
       " '114': 33,\n",
       " '124': 34,\n",
       " '129': 35,\n",
       " '130': 36,\n",
       " '131': 37,\n",
       " '133': 38,\n",
       " '138': 39,\n",
       " '141': 40,\n",
       " '142': 41,\n",
       " '143': 42,\n",
       " '145': 43,\n",
       " '147': 44,\n",
       " '148': 45,\n",
       " '149': 46,\n",
       " '150': 47,\n",
       " '151': 48,\n",
       " '153': 49,\n",
       " '161': 50,\n",
       " '162': 51,\n",
       " '163': 52,\n",
       " '164': 53,\n",
       " '165': 54,\n",
       " '170': 55,\n",
       " '176': 56,\n",
       " '180': 57,\n",
       " '194': 58,\n",
       " '195': 59,\n",
       " '196': 60,\n",
       " '197': 61,\n",
       " '199': 62,\n",
       " '201': 63,\n",
       " '203': 64,\n",
       " '206': 65,\n",
       " '207': 66,\n",
       " '209': 67,\n",
       " '210': 68}"
      ]
     },
     "metadata": {},
     "execution_count": 34
    }
   ],
   "metadata": {}
  },
  {
   "cell_type": "markdown",
   "source": [
    "## Vectorise text\n",
    "\n",
    "Use a [tf-idf vectoriser](https://scikit-learn.org/stable/modules/generated/sklearn.feature_extraction.text.TfidfVectorizer.html) to tokenise text.\n",
    "\n",
    "More info on the [sklearn feature extraction page](https://scikit-learn.org/stable/modules/feature_extraction.html).\n",
    "\n",
    "Also [sklearn page on working with text data](https://scikit-learn.org/stable/tutorial/text_analytics/working_with_text_data.html)."
   ],
   "metadata": {}
  },
  {
   "cell_type": "code",
   "execution_count": 35,
   "source": [
    "vectorizer = TfidfVectorizer(max_df=0.5, min_df=2)\r\n",
    "X = vectorizer.fit_transform(data.values())"
   ],
   "outputs": [],
   "metadata": {}
  },
  {
   "cell_type": "code",
   "execution_count": 36,
   "source": [
    "print(f\"Num words in vocabulary: {len(vectorizer.get_feature_names())}\")"
   ],
   "outputs": [
    {
     "output_type": "stream",
     "name": "stdout",
     "text": [
      "Num words in vocabulary: 574\n"
     ]
    }
   ],
   "metadata": {}
  },
  {
   "cell_type": "code",
   "execution_count": 37,
   "source": [
    "print(f\"(Num texts, Num vocab words): {X.shape}\")"
   ],
   "outputs": [
    {
     "output_type": "stream",
     "name": "stdout",
     "text": [
      "(Num texts, Num vocab words): (69, 574)\n"
     ]
    }
   ],
   "metadata": {}
  },
  {
   "cell_type": "markdown",
   "source": [
    "## View tfidf vector for a text\n",
    "\n"
   ],
   "metadata": {}
  },
  {
   "cell_type": "code",
   "execution_count": 38,
   "source": [
    "def get_feature_dict(key):\r\n",
    "    txt_idx = index[key]\r\n",
    "    V = X[txt_idx]\r\n",
    "    Vl = V.tolil()\r\n",
    "    feature_dict = {}\r\n",
    "    for tok_idx, tfidf in zip(*Vl.rows, *Vl.data):\r\n",
    "        tok_str = vectorizer.get_feature_names()[tok_idx]\r\n",
    "        feature_dict[tok_str] = tfidf\r\n",
    "    return feature_dict"
   ],
   "outputs": [],
   "metadata": {}
  },
  {
   "cell_type": "code",
   "execution_count": 39,
   "source": [
    "get_feature_dict(\"8\")"
   ],
   "outputs": [
    {
     "output_type": "execute_result",
     "data": {
      "text/plain": [
       "{'addition': 0.09720939359727047,\n",
       " 'after': 0.05644416391793208,\n",
       " 'amount': 0.27701722550560454,\n",
       " 'association': 0.1630159374539253,\n",
       " 'capital': 0.09233907516853486,\n",
       " 'declaration': 0.11085497392823201,\n",
       " 'divided': 0.10317018161010706,\n",
       " 'each': 0.07869349483757332,\n",
       " 'england': 0.07614749351271792,\n",
       " 'fixed': 0.11085497392823201,\n",
       " 'following': 0.15229498702543584,\n",
       " 'formed': 0.08822127961014528,\n",
       " 'having': 0.07614749351271792,\n",
       " 'he': 0.07869349483757332,\n",
       " 'herein': 0.07614749351271792,\n",
       " 'his': 0.06299206996726549,\n",
       " 'into': 0.06970538085044811,\n",
       " 'ireland': 0.08150796872696266,\n",
       " 'its': 0.05763159475302075,\n",
       " 'kingdom': 0.11085497392823201,\n",
       " 'last': 0.09233907516853486,\n",
       " 'less': 0.09720939359727047,\n",
       " 'liability': 0.15229498702543584,\n",
       " 'limited': 0.3386171314016396,\n",
       " 'members': 0.13227676818142547,\n",
       " 'memorandum': 0.18467815033706972,\n",
       " 'name': 0.23608048451271996,\n",
       " 'no': 0.0678623883960011,\n",
       " 'number': 0.08150796872696266,\n",
       " 'office': 0.07869349483757332,\n",
       " 'on': 0.09524497066203115,\n",
       " 'one': 0.06299206996726549,\n",
       " 'part': 0.06970538085044811,\n",
       " 'proposed': 0.33256492178469604,\n",
       " 'referred': 0.11085497392823201,\n",
       " 'registered': 0.12598413993453098,\n",
       " 'regulations': 0.0678623883960011,\n",
       " 'say': 0.0846542828504099,\n",
       " 'scotland': 0.0846542828504099,\n",
       " 'share': 0.09720939359727047,\n",
       " 'shares': 0.2867400477681545,\n",
       " 'situate': 0.10317018161010706,\n",
       " 'subject': 0.05530727764914053,\n",
       " 'subscriber': 0.22170994785646403,\n",
       " 'take': 0.09233907516853486,\n",
       " 'takes': 0.11085497392823201,\n",
       " 'than': 0.06970538085044811,\n",
       " 'that': 0.1973859585452158,\n",
       " 'their': 0.07168501194203862,\n",
       " 'things': 0.08822127961014528,\n",
       " 'united': 0.11085497392823201,\n",
       " 'where': 0.06299206996726549,\n",
       " 'whether': 0.0846542828504099,\n",
       " 'which': 0.1595073395470244,\n",
       " 'with': 0.10633822636468292}"
      ]
     },
     "metadata": {},
     "execution_count": 39
    }
   ],
   "metadata": {}
  },
  {
   "cell_type": "markdown",
   "source": [
    "## Calculate similarities\n",
    "\n",
    "Calculate cosine similarity between each pair of texts."
   ],
   "metadata": {}
  },
  {
   "cell_type": "code",
   "execution_count": 40,
   "source": [
    "S = cosine_similarity(X)"
   ],
   "outputs": [],
   "metadata": {}
  },
  {
   "cell_type": "code",
   "execution_count": 41,
   "source": [
    "def sim(key1, key2, kernel=S):\r\n",
    "    idx1 = index[key1]\r\n",
    "    idx2 = index[key2]\r\n",
    "    return S[idx1, idx2]"
   ],
   "outputs": [],
   "metadata": {}
  },
  {
   "cell_type": "code",
   "execution_count": 42,
   "source": [
    "sim('8', '12')"
   ],
   "outputs": [
    {
     "output_type": "execute_result",
     "data": {
      "text/plain": [
       "0.38277761096501695"
      ]
     },
     "metadata": {},
     "execution_count": 42
    }
   ],
   "metadata": {}
  },
  {
   "cell_type": "markdown",
   "source": [
    "## Most similar for given key"
   ],
   "metadata": {}
  },
  {
   "cell_type": "code",
   "execution_count": 43,
   "source": [
    "def most_sim(key, kernel=S):\r\n",
    "    idx = index[key]\r\n",
    "    sims = list(zip(S[idx], index.keys()))\r\n",
    "    return sorted(sims, reverse=True)"
   ],
   "outputs": [],
   "metadata": {}
  },
  {
   "cell_type": "code",
   "execution_count": 44,
   "source": [
    "most_sim('8')"
   ],
   "outputs": [
    {
     "output_type": "execute_result",
     "data": {
      "text/plain": [
       "[(1.0000000000000002, '8'),\n",
       " (0.38277761096501695, '12'),\n",
       " (0.27915556867069735, '25'),\n",
       " (0.25632827894340726, '176'),\n",
       " (0.2547251432647411, '41'),\n",
       " (0.23300020880534209, '22'),\n",
       " (0.2179430040787526, '196'),\n",
       " (0.19811229863832847, '180'),\n",
       " (0.19344491392414703, '161'),\n",
       " (0.18148579740988863, '95'),\n",
       " (0.17999732225439707, '16'),\n",
       " (0.17857648981528715, '199'),\n",
       " (0.15279082734770075, '94'),\n",
       " (0.1483729341202468, '81'),\n",
       " (0.14001592368633314, '50'),\n",
       " (0.1389851294491498, '31'),\n",
       " (0.13627054400681618, '210'),\n",
       " (0.1311989225041349, '101'),\n",
       " (0.12540225861245993, '79'),\n",
       " (0.12408845133037036, '203'),\n",
       " (0.11148761532485377, '75'),\n",
       " (0.1112343221123979, '129'),\n",
       " (0.10812861670983617, '51'),\n",
       " (0.10809616329565404, '153'),\n",
       " (0.10455586042390519, '35'),\n",
       " (0.09365319467237374, '142'),\n",
       " (0.09314122679793117, '131'),\n",
       " (0.09270782526315954, '148'),\n",
       " (0.09186266802258304, '165'),\n",
       " (0.0899020134730844, '133'),\n",
       " (0.08869868653845643, '209'),\n",
       " (0.08736379127355254, '194'),\n",
       " (0.07892360205032169, '138'),\n",
       " (0.07544121904515122, '102'),\n",
       " (0.07498383447937682, '80'),\n",
       " (0.0633800865308675, '98'),\n",
       " (0.059760665581770636, '149'),\n",
       " (0.05853059312981001, '83'),\n",
       " (0.05306234371435988, '92'),\n",
       " (0.05125132598743159, '77'),\n",
       " (0.05108506899427035, '87'),\n",
       " (0.05039604874327424, '124'),\n",
       " (0.05012401336886681, '76'),\n",
       " (0.04985804712547044, '147'),\n",
       " (0.04765744567046051, '162'),\n",
       " (0.04596823618144992, '86'),\n",
       " (0.045247762479027155, '143'),\n",
       " (0.044474122928479416, '91'),\n",
       " (0.04257567760857064, '170'),\n",
       " (0.036964325580017686, '206'),\n",
       " (0.036669057953507694, '37'),\n",
       " (0.03563112386369976, '151'),\n",
       " (0.03447971945345241, '93'),\n",
       " (0.03389758972149025, '197'),\n",
       " (0.03221218156132204, '82'),\n",
       " (0.029883165792247736, '164'),\n",
       " (0.029493439349343203, '163'),\n",
       " (0.0279911303214162, '145'),\n",
       " (0.025681656664384468, '141'),\n",
       " (0.021165574160461983, '99'),\n",
       " (0.018626237242417774, '207'),\n",
       " (0.018076121731387618, '114'),\n",
       " (0.017953476592510564, '150'),\n",
       " (0.017607221032089497, '195'),\n",
       " (0.011364546886526732, '85'),\n",
       " (0.007228007579641555, '201'),\n",
       " (0.0, '84'),\n",
       " (0.0, '74'),\n",
       " (0.0, '130')]"
      ]
     },
     "metadata": {},
     "execution_count": 44
    }
   ],
   "metadata": {}
  },
  {
   "cell_type": "markdown",
   "source": [
    "## Write similarity CSV"
   ],
   "metadata": {}
  },
  {
   "cell_type": "code",
   "execution_count": 45,
   "source": [
    "with open(OUT_PATH, 'w') as _f:\r\n",
    "    writer = csv.writer(_f)\r\n",
    "    writer.writerow([\"key1\", \"key2\", \"similarity\"])\r\n",
    "    keys = list(index.keys())\r\n",
    "    N = len(keys)\r\n",
    "    for i in range(N):\r\n",
    "        key1 = keys[i]\r\n",
    "        for j in range(i+1, N):\r\n",
    "            key2 = keys[j]\r\n",
    "            similarity = S[i][j]\r\n",
    "            writer.writerow([key1, key2, similarity])"
   ],
   "outputs": [],
   "metadata": {}
  },
  {
   "cell_type": "code",
   "execution_count": null,
   "source": [],
   "outputs": [],
   "metadata": {}
  }
 ]
}